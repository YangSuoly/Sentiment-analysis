{
 "cells": [
  {
   "cell_type": "markdown",
   "metadata": {
    "collapsed": false
   },
   "source": [
    "# 1. Introduction\n",
    "## 1.1 Background\n",
    "\n",
    "在我国电子商务飞快发展的背景下，基本上所有的电子商务网站都支持消费者对产品的相关内容（商品、服务、卖家）等进行打分和发表评论。客户可以通过网络进行沟通和交流，在网络平台上发布大量的留言和评论，这已经成为互联网的一种流行形式，而这种形势必然给互联网带来海量的信息。\n",
    "\n",
    "对于**卖家**来说，可以从评论信息中获取客户的实际需求，以改善产品品质，提高自身的竞争力。对于**客户**来说，可以借鉴别人的购买历史以及评论信息，更好的辅助自己制定购买决策。此外，对于一些未知体验产品，客户可以通过网络来获取产品信息，特别是对一些未知的体验产品，客户为了降低自身的风险更加倾向于得到其他客户的意见和看法，这些评论对潜在的买家而言无疑是一笔财富，并以此作为决策的重要依据。 因此，通过利用数据挖掘技术针对客户的大量评论进行分析，可以挖掘出这些信息的特征，而得到的这些信息有利于生产商改进自身产品和改善相关的服务，提高商家的核心竞争力。本项目所选择的Multi-Domain Sentiment Dataset 数据库包含从 Amazon.com 获取的来自许多产品类型（域）的产品评论，希望通过借助该数据库实现NLP语言处理技术在对商品评论进行情感分析，了解文本情感分类的基本用法。\n",
    "\n",
    "# 2. Datasets\n",
    "## 2.1 数据集的准备与介绍"
   ]
  },
  {
   "cell_type": "markdown",
   "metadata": {
    "collapsed": false
   },
   "source": [
    "1. Unzip"
   ]
  },
  {
   "cell_type": "code",
   "execution_count": null,
   "metadata": {
    "collapsed": false
   },
   "outputs": [
    {
     "name": "stdout",
     "output_type": "stream",
     "text": [
      "processed_acl/\n",
      "processed_acl/dvd/\n",
      "processed_acl/dvd/negative.review\n",
      "processed_acl/dvd/unlabeled.review\n",
      "processed_acl/dvd/positive.review\n",
      "processed_acl/books/\n",
      "processed_acl/books/negative.review\n",
      "processed_acl/books/unlabeled.review\n",
      "processed_acl/books/positive.review\n",
      "processed_acl/kitchen/\n",
      "processed_acl/kitchen/negative.review\n",
      "processed_acl/kitchen/unlabeled.review\n",
      "processed_acl/kitchen/positive.review\n",
      "processed_acl/electronics/\n",
      "processed_acl/electronics/negative.review\n",
      "processed_acl/electronics/unlabeled.review\n",
      "processed_acl/electronics/positive.review\n"
     ]
    }
   ],
   "source": [
    "# !tar zxvf data/data103817/processed_acl.tar.gz -C Multi-Domain"
   ]
  },
  {
   "cell_type": "markdown",
   "metadata": {
    "collapsed": false
   },
   "source": [
    "2. 查看数据集的目录结构"
   ]
  },
  {
   "cell_type": "markdown",
   "metadata": {
    "collapsed": false
   },
   "source": [
    "Multi-Domain Sentiment Dataset 包含从 Amazon.com 获取的来自许多产品类型（域）的产品评论。某些域（书籍和 DVD）有数十万条评论。其他（乐器）只有几百。评论包含星级评分（1 到 5 星），如果需要，可以将其转换为二进制标签。此页面包含有关数据的一些说明。\n",
    "\n",
    "关于数据集的一些注意事项:\n",
    "1. unprocessed 文件夹包含原始数据。\n",
    "2. processed.acl 文件夹包含预处理和平衡的数据。也就是说，Blitzer 等人的格式。(ACL 2007)\n",
    "3. processed.realvalued 包含了经过预处理和平衡的数据，但是有星数，而不仅仅是正数或负数。也就是说，Mansour 等人的格式。(NIPS 2009)\n",
    "\n",
    "    预处理数据为每个文档一行，每行格式如下：\n",
    "    \n",
    "    feature:<count> .... feature:<count> #label#:<label>\n",
    "  \n",
    "    标签总是在每个文件的末尾线。\n",
    "4. 每个目录对应一个域。每个目录包含几个文件，我们简要介绍一下：\n",
    "    - all.review -- 该域的所有评论，以其原始格式\n",
    "    - positive.review -- 正面评论\n",
    "    - negative.review -- 负面评论\n",
    "    - unlabeled.review -- 未标记的评论\n",
    "    - processed.review -- 预处理评论（见下文）\n",
    "    - processing.review.balanced -- 预处理评论，在正面和负面之间均衡。\n",
    "\n",
    "5. 虽然正面和负面文件包含正面和负面评论，但这些不一定是任何引用论文中使用的分割。他们只是在那里尽可能地进行初始分裂。\n",
    "6. 每个（未处理的）文件都包含一个用于对评论进行编码的伪 XML 方案。大多数字段都是不言自明的。评论有一个不是很独特的唯一 ID 字段。如果它有两个唯一的 id 字段，则忽略仅包含一个数字的那个。总有一些我们可能忽略的小细节。如果您在阅读论文和本页后有任何疑问，请告诉 Mark Dredze 或 John Blitzer。"
   ]
  },
  {
   "cell_type": "code",
   "execution_count": null,
   "metadata": {
    "collapsed": false
   },
   "outputs": [
    {
     "name": "stdout",
     "output_type": "stream",
     "text": [
      "Multi-Domain\r\n",
      "├── processed_acl\r\n",
      "│   ├── books\r\n",
      "│   │   ├── negative.review\r\n",
      "│   │   ├── positive.review\r\n",
      "│   │   └── unlabeled.review\r\n",
      "│   ├── dvd\r\n",
      "│   │   ├── negative.review\r\n",
      "│   │   ├── positive.review\r\n",
      "│   │   └── unlabeled.review\r\n",
      "│   ├── electronics\r\n",
      "│   │   ├── negative.review\r\n",
      "│   │   ├── positive.review\r\n",
      "│   │   └── unlabeled.review\r\n",
      "│   └── kitchen\r\n",
      "│       ├── negative.review\r\n",
      "│       ├── positive.review\r\n",
      "│       └── unlabeled.review\r\n",
      "├── processed_stars\r\n",
      "│   ├── books\r\n",
      "│   │   ├── all_balanced.review\r\n",
      "│   │   ├── test\r\n",
      "│   │   └── train\r\n",
      "│   ├── dvd\r\n",
      "│   │   ├── all_balanced.review\r\n",
      "│   │   ├── test\r\n",
      "│   │   └── train\r\n",
      "│   ├── electronics\r\n",
      "│   │   ├── all_balanced.review\r\n",
      "│   │   ├── test\r\n",
      "│   │   └── train\r\n",
      "│   └── kitchen\r\n",
      "│       ├── all_balanced.review\r\n",
      "│       ├── test\r\n",
      "│       └── train\r\n",
      "└── sorted_data\r\n",
      "    ├── apparel\r\n",
      "    │   ├── all.review\r\n",
      "    │   ├── negative.review\r\n",
      "    │   ├── positive.review\r\n",
      "    │   ├── processed.review\r\n",
      "    │   ├── processed.review.balanced\r\n",
      "    │   └── unlabeled.review\r\n",
      "    ├── automotive\r\n",
      "    │   ├── all.review\r\n",
      "    │   ├── negative.review\r\n",
      "    │   ├── positive.review\r\n",
      "    │   ├── processed.review\r\n",
      "    │   ├── processed.review.balanced\r\n",
      "    │   └── unlabeled.review\r\n",
      "    ├── baby\r\n",
      "    │   ├── all.review\r\n",
      "    │   ├── negative.review\r\n",
      "    │   ├── positive.review\r\n",
      "    │   ├── processed.review\r\n",
      "    │   ├── processed.review.balanced\r\n",
      "    │   └── unlabeled.review\r\n",
      "    ├── beauty\r\n",
      "    │   ├── all.review\r\n",
      "    │   ├── negative.review\r\n",
      "    │   ├── positive.review\r\n",
      "    │   ├── processed.review\r\n",
      "    │   ├── processed.review.balanced\r\n",
      "    │   └── unlabeled.review\r\n",
      "    ├── books\r\n",
      "    │   ├── all.review\r\n",
      "    │   ├── negative.review\r\n",
      "    │   ├── positive.review\r\n",
      "    │   ├── processed.review\r\n",
      "    │   ├── processed.review.balanced\r\n",
      "    │   └── unlabeled.review\r\n",
      "    ├── camera_&_photo\r\n",
      "    │   ├── all.review\r\n",
      "    │   ├── negative.review\r\n",
      "    │   ├── positive.review\r\n",
      "    │   ├── processed.review\r\n",
      "    │   ├── processed.review.balanced\r\n",
      "    │   └── unlabeled.review\r\n",
      "    ├── cell_phones_&_service\r\n",
      "    │   ├── all.review\r\n",
      "    │   ├── negative.review\r\n",
      "    │   ├── positive.review\r\n",
      "    │   ├── processed.review\r\n",
      "    │   ├── processed.review.balanced\r\n",
      "    │   └── unlabeled.review\r\n",
      "    ├── computer_&_video_games\r\n",
      "    │   ├── all.review\r\n",
      "    │   ├── negative.review\r\n",
      "    │   ├── positive.review\r\n",
      "    │   ├── processed.review\r\n",
      "    │   ├── processed.review.balanced\r\n",
      "    │   └── unlabeled.review\r\n",
      "    ├── dvd\r\n",
      "    │   ├── all.review\r\n",
      "    │   ├── negative.review\r\n",
      "    │   ├── positive.review\r\n",
      "    │   ├── processed.review\r\n",
      "    │   ├── processed.review.balanced\r\n",
      "    │   └── unlabeled.review\r\n",
      "    ├── electronics\r\n",
      "    │   ├── all.review\r\n",
      "    │   ├── negative.review\r\n",
      "    │   ├── positive.review\r\n",
      "    │   ├── processed.review\r\n",
      "    │   ├── processed.review.balanced\r\n",
      "    │   └── unlabeled.review\r\n",
      "    ├── gourmet_food\r\n",
      "    │   ├── all.review\r\n",
      "    │   ├── negative.review\r\n",
      "    │   ├── positive.review\r\n",
      "    │   ├── processed.review\r\n",
      "    │   ├── processed.review.balanced\r\n",
      "    │   └── unlabeled.review\r\n",
      "    ├── grocery\r\n",
      "    │   ├── all.review\r\n",
      "    │   ├── negative.review\r\n",
      "    │   ├── positive.review\r\n",
      "    │   ├── processed.review\r\n",
      "    │   ├── processed.review.balanced\r\n",
      "    │   └── unlabeled.review\r\n",
      "    ├── health_&_personal_care\r\n",
      "    │   ├── all.review\r\n",
      "    │   ├── negative.review\r\n",
      "    │   ├── positive.review\r\n",
      "    │   ├── processed.review\r\n",
      "    │   ├── processed.review.balanced\r\n",
      "    │   └── unlabeled.review\r\n",
      "    ├── jewelry_&_watches\r\n",
      "    │   ├── all.review\r\n",
      "    │   ├── negative.review\r\n",
      "    │   ├── positive.review\r\n",
      "    │   ├── processed.review\r\n",
      "    │   ├── processed.review.balanced\r\n",
      "    │   └── unlabeled.review\r\n",
      "    ├── kitchen_&_housewares\r\n",
      "    │   ├── all.review\r\n",
      "    │   ├── negative.review\r\n",
      "    │   ├── positive.review\r\n",
      "    │   ├── processed.review\r\n",
      "    │   ├── processed.review.balanced\r\n",
      "    │   └── unlabeled.review\r\n",
      "    ├── magazines\r\n",
      "    │   ├── all.review\r\n",
      "    │   ├── negative.review\r\n",
      "    │   ├── positive.review\r\n",
      "    │   ├── processed.review\r\n",
      "    │   ├── processed.review.balanced\r\n",
      "    │   └── unlabeled.review\r\n",
      "    ├── music\r\n",
      "    │   ├── all.review\r\n",
      "    │   ├── negative.review\r\n",
      "    │   ├── positive.review\r\n",
      "    │   ├── processed.review\r\n",
      "    │   ├── processed.review.balanced\r\n",
      "    │   ├── processed.review.random\r\n",
      "    │   └── unlabeled.review\r\n",
      "    ├── musical_instruments\r\n",
      "    │   ├── all.review\r\n",
      "    │   ├── negative.review\r\n",
      "    │   ├── positive.review\r\n",
      "    │   ├── processed.review\r\n",
      "    │   ├── processed.review.balanced\r\n",
      "    │   └── unlabeled.review\r\n",
      "    ├── office_products\r\n",
      "    │   ├── all.review\r\n",
      "    │   ├── negative.review\r\n",
      "    │   ├── positive.review\r\n",
      "    │   ├── processed.review\r\n",
      "    │   ├── processed.review.balanced\r\n",
      "    │   └── unlabeled.review\r\n",
      "    ├── outdoor_living\r\n",
      "    │   ├── all.review\r\n",
      "    │   ├── negative.review\r\n",
      "    │   ├── positive.review\r\n",
      "    │   ├── processed.review\r\n",
      "    │   ├── processed.review.balanced\r\n",
      "    │   └── unlabeled.review\r\n",
      "    ├── software\r\n",
      "    │   ├── all.review\r\n",
      "    │   ├── negative.review\r\n",
      "    │   ├── positive.review\r\n",
      "    │   ├── processed.review\r\n",
      "    │   ├── processed.review.balanced\r\n",
      "    │   └── unlabeled.review\r\n",
      "    ├── sports_&_outdoors\r\n",
      "    │   ├── all.review\r\n",
      "    │   ├── negative.review\r\n",
      "    │   ├── positive.review\r\n",
      "    │   ├── processed.review\r\n",
      "    │   ├── processed.review.balanced\r\n",
      "    │   └── unlabeled.review\r\n",
      "    ├── stopwords\r\n",
      "    ├── summary.txt\r\n",
      "    ├── tools_&_hardware\r\n",
      "    │   ├── all.review\r\n",
      "    │   ├── negative.review\r\n",
      "    │   ├── positive.review\r\n",
      "    │   ├── processed.review\r\n",
      "    │   ├── processed.review.balanced\r\n",
      "    │   └── unlabeled.review\r\n",
      "    ├── toys_&_games\r\n",
      "    │   ├── all.review\r\n",
      "    │   ├── negative.review\r\n",
      "    │   ├── positive.review\r\n",
      "    │   ├── processed.review\r\n",
      "    │   ├── processed.review.balanced\r\n",
      "    │   └── unlabeled.review\r\n",
      "    └── video\r\n",
      "        ├── all.review\r\n",
      "        ├── negative.review\r\n",
      "        ├── positive.review\r\n",
      "        ├── processed.review\r\n",
      "        ├── processed.review.balanced\r\n",
      "        └── unlabeled.review\r\n",
      "\r\n",
      "36 directories, 177 files\r\n"
     ]
    }
   ],
   "source": [
    "!tree Multi-Domain "
   ]
  },
  {
   "cell_type": "markdown",
   "metadata": {
    "collapsed": false
   },
   "source": [
    "考虑到数据集数据量较大，此处我们进选择其中的一小部分：`processed_stars/electronics` 文件夹中的数据作为本项目的数据进行分析。\n",
    "\n",
    "## 2.2 文本数据的统计分析\n",
    "### 2.2.1 读取数据\n",
    "\n",
    "- 定义路径和读取函数"
   ]
  },
  {
   "cell_type": "code",
   "execution_count": null,
   "metadata": {
    "collapsed": false
   },
   "outputs": [],
   "source": [
    "data_path = 'Multi-Domain/sorted_data/books/'\r\n",
    "all_path = data_path + 'all.review'\r\n",
    "positive_path = data_path + 'positive.review'\r\n",
    "negative_path = data_path + 'negative.review'\r\n",
    "unbalance_path = data_path + 'unbalanced.review'\r\n",
    "test_path = data_path + 'processed.review.balanced'\r\n",
    "processed_path = data_path + 'processed.review'\r\n",
    "\r\n",
    "\r\n",
    "def read_dataset(dataset_path):\r\n",
    "    # ========== 可以通过下述代码查看 txt 文件的编码\r\n",
    "    # import chardet\r\n",
    "    # f = open(positive_path,'rb')\r\n",
    "    # data = f.read()\r\n",
    "    # print(chardet.detect(data))\r\n",
    "    # =============================================\r\n",
    "\r\n",
    "    with open(dataset_path, encoding = 'ISO-8859-1') as f:\r\n",
    "        train = f.readlines()\r\n",
    "    \r\n",
    "    # 进行简单的筛选，将小于 15 个单词的句子进行剔除\r\n",
    "    train = [i for i in train if not i.startswith('<')]\r\n",
    "    train = [i for i in train if len(i.split(' ')) >= 15]\r\n",
    "\r\n",
    "    return train"
   ]
  },
  {
   "cell_type": "markdown",
   "metadata": {
    "collapsed": false
   },
   "source": [
    "- 加载数据 \n",
    "\n",
    "    通过初步查看，发现数据集中有许多无效的评论，因此此处进行了简单筛选，剔除小于 `15` 个单词的评论，为了便利，此项目进队 `positve` 和 `negative` 进行识别和分析。"
   ]
  },
  {
   "cell_type": "code",
   "execution_count": null,
   "metadata": {
    "collapsed": false
   },
   "outputs": [
    {
     "name": "stdout",
     "output_type": "stream",
     "text": [
      "The length of Positive dataset:  2224\n",
      "The length of Negative dataset:  2428\n"
     ]
    }
   ],
   "source": [
    "positive_dataset = read_dataset(positive_path)\n",
    "negative_dataset = read_dataset(negative_path)\n",
    "\n",
    "print('The length of Positive dataset: ', len(positive_dataset))\n",
    "print('The length of Negative dataset: ', len(negative_dataset))"
   ]
  },
  {
   "cell_type": "markdown",
   "metadata": {
    "collapsed": false
   },
   "source": [
    "可以发现，得到了 `2224` 条积极评论，`2428` 条负向评论。\n",
    "\n",
    "### 2.2.2 文本处理方法\n",
    "\n",
    "由于本项目所选数据为英语，因此选用 `NLTK` 库来处理我们的英语文本数据，而在借助 `NLTK` 处理句子时，需要加载其自定义的 `tokenizer`，由于无法直接下载，此处我们选择将 `punkt.zip` 上传至 `/home/aistudio/nltk_data/tokenizers/` 文件路径，以保证 `NLTK` 可以正常处理数据。该压缩包可以通过网上查找得到。"
   ]
  },
  {
   "cell_type": "code",
   "execution_count": null,
   "metadata": {
    "collapsed": false
   },
   "outputs": [],
   "source": [
    "import nltk\r\n",
    "import string\r\n",
    "import numpy as numpy\r\n",
    "from collections import Counter\r\n",
    "from nltk.tokenize import sent_tokenize"
   ]
  },
  {
   "cell_type": "markdown",
   "metadata": {
    "collapsed": false
   },
   "source": [
    "- 将文本切分为语句"
   ]
  },
  {
   "cell_type": "code",
   "execution_count": null,
   "metadata": {
    "collapsed": false
   },
   "outputs": [
    {
     "data": {
      "text/plain": [
       "[\"Bridget Jones, modern day woman, brillant and doesn't know it, prone to accidents and mess ups but manages to come out of them.\"]"
      ]
     },
     "execution_count": null,
     "metadata": {},
     "output_type": "execute_result"
    }
   ],
   "source": [
    "test_text = train_dataset[0] \r\n",
    "\r\n",
    "from nltk.tokenize import sent_tokenize\r\n",
    "sent_tokenize(test_text)"
   ]
  },
  {
   "cell_type": "markdown",
   "metadata": {
    "collapsed": false
   },
   "source": [
    "- 词干统计"
   ]
  },
  {
   "cell_type": "code",
   "execution_count": null,
   "metadata": {
    "collapsed": false
   },
   "outputs": [
    {
     "data": {
      "text/plain": [
       "Counter({'bridget': 1,\n",
       "         'jone': 1,\n",
       "         'modern': 1,\n",
       "         'day': 1,\n",
       "         'woman': 1,\n",
       "         'brillant': 1,\n",
       "         'and': 2,\n",
       "         'doesnt': 1,\n",
       "         'know': 1,\n",
       "         'it': 1,\n",
       "         'prone': 1,\n",
       "         'to': 2,\n",
       "         'accid': 1,\n",
       "         'mess': 1,\n",
       "         'up': 1,\n",
       "         'but': 1,\n",
       "         'manag': 1,\n",
       "         'come': 1,\n",
       "         'out': 1,\n",
       "         'of': 1,\n",
       "         'them': 1})"
      ]
     },
     "execution_count": null,
     "metadata": {},
     "output_type": "execute_result"
    }
   ],
   "source": [
    "def stem_count(text):\n",
    "    text = text.lower()\n",
    "    punctuation_map = dict((ord(char), None) for char in string.punctuation)\n",
    "    remove_punct = text.translate(punctuation_map)\n",
    "    #tokens = nltk.word_tokenize(remove_punct)\n",
    "    tokens = remove_punct.split()\n",
    "    #print(tokens)\n",
    "    #remove_stopwords = [w for w in tokens if not w in stopwords.words('english')]\n",
    "    #print(remove_stopwords)\n",
    "    s = nltk.stem.SnowballStemmer('english')\n",
    "    clean_text = [s.stem(ws) for ws in tokens]\n",
    "    count = Counter(clean_text)\n",
    "    return count\n",
    "\n",
    "stem_count(test_text)"
   ]
  },
  {
   "cell_type": "markdown",
   "metadata": {
    "collapsed": false
   },
   "source": [
    "\n",
    "- 分词"
   ]
  },
  {
   "cell_type": "code",
   "execution_count": null,
   "metadata": {
    "collapsed": false
   },
   "outputs": [
    {
     "data": {
      "text/plain": [
       "['Bridget',\n",
       " 'Jones',\n",
       " ',',\n",
       " 'modern',\n",
       " 'day',\n",
       " 'woman',\n",
       " ',',\n",
       " 'brillant',\n",
       " 'and',\n",
       " 'does',\n",
       " \"n't\",\n",
       " 'know',\n",
       " 'it',\n",
       " ',',\n",
       " 'prone',\n",
       " 'to',\n",
       " 'accidents',\n",
       " 'and',\n",
       " 'mess',\n",
       " 'ups',\n",
       " 'but',\n",
       " 'manages',\n",
       " 'to',\n",
       " 'come',\n",
       " 'out',\n",
       " 'of',\n",
       " 'them',\n",
       " '.']"
      ]
     },
     "execution_count": null,
     "metadata": {},
     "output_type": "execute_result"
    }
   ],
   "source": [
    "nltk.word_tokenize(test_text)"
   ]
  },
  {
   "cell_type": "markdown",
   "metadata": {
    "collapsed": false
   },
   "source": [
    "- 词频统计"
   ]
  },
  {
   "cell_type": "code",
   "execution_count": null,
   "metadata": {
    "collapsed": false
   },
   "outputs": [
    {
     "data": {
      "text/plain": [
       "[('the', 7257),\n",
       " ('and', 4677),\n",
       " ('of', 4653),\n",
       " ('to', 3994),\n",
       " ('a', 3706),\n",
       " ('is', 2645),\n",
       " ('in', 2402),\n",
       " ('I', 2262),\n",
       " ('book', 1872),\n",
       " ('that', 1649),\n",
       " ('this', 1530),\n",
       " ('it', 1474),\n",
       " ('for', 1351),\n",
       " (\"'s\", 1288),\n",
       " ('with', 1093),\n",
       " ('The', 1084),\n",
       " ('as', 1037),\n",
       " ('you', 928),\n",
       " ('was', 878),\n",
       " ('on', 829),\n",
       " ('are', 819),\n",
       " ('not', 762),\n",
       " ('have', 703),\n",
       " ('``', 702),\n",
       " (\"''\", 698),\n",
       " ('be', 663),\n",
       " ('his', 656),\n",
       " ('but', 631),\n",
       " ('This', 575),\n",
       " ('an', 567),\n",
       " ('read', 565),\n",
       " ('from', 561),\n",
       " ('by', 549),\n",
       " ('about', 518),\n",
       " ('one', 510),\n",
       " ('he', 504),\n",
       " ('who', 483),\n",
       " ('all', 478),\n",
       " (\"n't\", 477),\n",
       " ('my', 473),\n",
       " ('has', 470),\n",
       " ('or', 464),\n",
       " ('at', 461),\n",
       " ('It', 457),\n",
       " ('more', 423),\n",
       " ('what', 355),\n",
       " ('so', 354),\n",
       " ('her', 354),\n",
       " ('very', 347),\n",
       " ('can', 346)]"
      ]
     },
     "execution_count": null,
     "metadata": {},
     "output_type": "execute_result"
    }
   ],
   "source": [
    "import string \r\n",
    "\r\n",
    "test_words = ' '.join(positive_dataset)\r\n",
    "words = nltk.word_tokenize(test_words)\r\n",
    "\r\n",
    "from nltk.corpus import stopwords\r\n",
    "\r\n",
    "stop_words = set(stopwords.words('english'))\r\n",
    "words = [i for i in words if i not in string.punctuation]\r\n",
    "\r\n",
    "word_counters = Counter(words)\r\n",
    "word_counters.most_common(50)"
   ]
  },
  {
   "cell_type": "markdown",
   "metadata": {
    "collapsed": false
   },
   "source": [
    "- 去除停用词"
   ]
  },
  {
   "cell_type": "code",
   "execution_count": null,
   "metadata": {
    "collapsed": false
   },
   "outputs": [
    {
     "name": "stderr",
     "output_type": "stream",
     "text": [
      "[nltk_data] Downloading package stopwords to\n",
      "[nltk_data]     /home/aistudio/nltk_data...\n",
      "[nltk_data]   Unzipping corpora/stopwords.zip.\n"
     ]
    },
    {
     "data": {
      "text/plain": [
       "True"
      ]
     },
     "execution_count": null,
     "metadata": {},
     "output_type": "execute_result"
    }
   ],
   "source": [
    "# 下载停用词\r\n",
    "nltk.download('stopwords')"
   ]
  },
  {
   "cell_type": "code",
   "execution_count": null,
   "metadata": {
    "collapsed": false
   },
   "outputs": [
    {
     "data": {
      "text/plain": [
       "[('I', 2262),\n",
       " ('book', 1872),\n",
       " (\"'s\", 1288),\n",
       " ('The', 1084),\n",
       " ('``', 702),\n",
       " (\"''\", 698),\n",
       " ('This', 575),\n",
       " ('read', 565),\n",
       " ('one', 510),\n",
       " (\"n't\", 477),\n",
       " ('It', 457),\n",
       " ('would', 310),\n",
       " ('like', 305),\n",
       " ('also', 276),\n",
       " ('story', 273),\n",
       " ('life', 267),\n",
       " ('great', 259),\n",
       " ('Books', 253),\n",
       " ('well', 253),\n",
       " ('quot', 250),\n",
       " ('good', 245),\n",
       " ('books', 240),\n",
       " ('time', 239),\n",
       " ('many', 238),\n",
       " ('people', 226),\n",
       " ('much', 224),\n",
       " ('In', 219),\n",
       " ('first', 213),\n",
       " ('A', 210),\n",
       " ('work', 188),\n",
       " ('reading', 188),\n",
       " ('really', 187),\n",
       " ('get', 185),\n",
       " ('If', 179),\n",
       " ('even', 179),\n",
       " ('way', 177),\n",
       " ('could', 176),\n",
       " ('--', 174),\n",
       " ('new', 166),\n",
       " ('years', 160),\n",
       " ('find', 158),\n",
       " ('best', 155),\n",
       " ('He', 150),\n",
       " ('make', 144),\n",
       " ('know', 143),\n",
       " ('written', 143),\n",
       " ('love', 140),\n",
       " ('think', 133),\n",
       " ('But', 133),\n",
       " ('world', 127)]"
      ]
     },
     "execution_count": null,
     "metadata": {},
     "output_type": "execute_result"
    }
   ],
   "source": [
    "from nltk.corpus import stopwords\r\n",
    "\r\n",
    "test_words = ' '.join(positive_dataset)\r\n",
    "words = nltk.word_tokenize(test_words)\r\n",
    "\r\n",
    "stop_words = set(stopwords.words('english'))\r\n",
    "words = [i for i in words if (i not in stop_words) and (i not in string.punctuation)]\r\n",
    "\r\n",
    "word_counters = Counter(words)\r\n",
    "word_counters.most_common(50)"
   ]
  },
  {
   "cell_type": "markdown",
   "metadata": {
    "collapsed": false
   },
   "source": [
    "- 词云可视化"
   ]
  },
  {
   "cell_type": "code",
   "execution_count": null,
   "metadata": {
    "collapsed": false
   },
   "outputs": [
    {
     "name": "stdout",
     "output_type": "stream",
     "text": [
      "Looking in indexes: https://pypi.tuna.tsinghua.edu.cn/simple\n",
      "Collecting wordcloud\n",
      "  Downloading https://pypi.tuna.tsinghua.edu.cn/packages/1b/06/0516bdba2ebdc0d5bd476aa66f94666dd0ad6b9abda723fdf28e451db919/wordcloud-1.8.1-cp37-cp37m-manylinux1_x86_64.whl (366 kB)\n",
      "     |████████████████████████████████| 366 kB 4.8 MB/s            \n",
      "\u001b[?25hRequirement already satisfied: numpy>=1.6.1 in /opt/conda/envs/python35-paddle120-env/lib/python3.7/site-packages (from wordcloud) (1.19.5)\n",
      "Requirement already satisfied: matplotlib in /opt/conda/envs/python35-paddle120-env/lib/python3.7/site-packages (from wordcloud) (2.2.3)\n",
      "Requirement already satisfied: pillow in /opt/conda/envs/python35-paddle120-env/lib/python3.7/site-packages (from wordcloud) (8.2.0)\n",
      "Requirement already satisfied: cycler>=0.10 in /opt/conda/envs/python35-paddle120-env/lib/python3.7/site-packages (from matplotlib->wordcloud) (0.10.0)\n",
      "Requirement already satisfied: pytz in /opt/conda/envs/python35-paddle120-env/lib/python3.7/site-packages (from matplotlib->wordcloud) (2019.3)\n",
      "Requirement already satisfied: kiwisolver>=1.0.1 in /opt/conda/envs/python35-paddle120-env/lib/python3.7/site-packages (from matplotlib->wordcloud) (1.1.0)\n",
      "Requirement already satisfied: python-dateutil>=2.1 in /opt/conda/envs/python35-paddle120-env/lib/python3.7/site-packages (from matplotlib->wordcloud) (2.8.2)\n",
      "Requirement already satisfied: six>=1.10 in /opt/conda/envs/python35-paddle120-env/lib/python3.7/site-packages (from matplotlib->wordcloud) (1.16.0)\n",
      "Requirement already satisfied: pyparsing!=2.0.4,!=2.1.2,!=2.1.6,>=2.0.1 in /opt/conda/envs/python35-paddle120-env/lib/python3.7/site-packages (from matplotlib->wordcloud) (3.0.7)\n",
      "Requirement already satisfied: setuptools in /opt/conda/envs/python35-paddle120-env/lib/python3.7/site-packages (from kiwisolver>=1.0.1->matplotlib->wordcloud) (41.4.0)\n",
      "Installing collected packages: wordcloud\n",
      "Successfully installed wordcloud-1.8.1\n",
      "\u001b[33mWARNING: You are using pip version 21.3.1; however, version 22.0.3 is available.\n",
      "You should consider upgrading via the '/opt/conda/envs/python35-paddle120-env/bin/python -m pip install --upgrade pip' command.\u001b[0m\n"
     ]
    }
   ],
   "source": [
    "!pip install wordcloud"
   ]
  },
  {
   "cell_type": "code",
   "execution_count": null,
   "metadata": {
    "collapsed": false
   },
   "outputs": [
    {
     "data": {
      "image/png": "[encoded data removed]",
      "text/plain": [
       "<Figure size 432x288 with 1 Axes>"
      ]
     },
     "metadata": {},
     "output_type": "display_data"
    }
   ],
   "source": [
    "from wordcloud import WordCloud \r\n",
    "\r\n",
    "results = {}\r\n",
    "\r\n",
    "test_words = ' '.join(positive_dataset)\r\n",
    "\r\n",
    "wordcloud = WordCloud(collocations = False, \r\n",
    "    background_color = 'white',\r\n",
    "    width = 2800,\r\n",
    "    height = 1600\r\n",
    "    ).generate(test_words)\r\n",
    "\r\n",
    "plt.figure()\r\n",
    "plt.imshow(wordcloud, interpolation='bilinear')\r\n",
    "plt.axis('off')\r\n",
    "plt.show()"
   ]
  },
  {
   "cell_type": "markdown",
   "metadata": {
    "collapsed": false
   },
   "source": [
    "### 2.3 数据集类的定义\n",
    "\n",
    "- 数据合并\n",
    "\n",
    "    首先将 `positive` 和 `negative` 的样本打散，生成新的样本集。\n",
    "    \n",
    "    - `positive`: 1\n",
    "    - `negative`: 0"
   ]
  },
  {
   "cell_type": "code",
   "execution_count": null,
   "metadata": {
    "collapsed": false
   },
   "outputs": [],
   "source": [
    "import os \r\n",
    "import pandas as pd \r\n",
    "\r\n",
    "export_path = 'Senti_dataset/'\r\n",
    "all_data_path = export_path + 'all.csv'\r\n",
    "# 把生成的数据列表都放在自己的总类别文件夹中\r\n",
    "\r\n",
    "if os.path.exists(all_data_path):\r\n",
    "    all_pd = pd.read_csv(all_data_path, encoding = 'utf-8', index_col = 0)\r\n",
    "else:\r\n",
    "    pos_pd = pd.DataFrame(positive_dataset, columns = ['Sentences'])\r\n",
    "    pos_pd['Label'] = 1 # Positive\r\n",
    "\r\n",
    "    neg_pd = pd.DataFrame(negative_dataset, columns = ['Sentences'])\r\n",
    "    neg_pd['Label'] = 0\r\n",
    "\r\n",
    "    all_pd = pd.concat([pos_pd, neg_pd], axis = 0)\r\n",
    "    all_pd = all_pd.sample(frac=1).reset_index(drop=True) # 打散数据\r\n",
    "    all_pd.to_csv(data_path, encoding = 'utf-8')"
   ]
  },
  {
   "cell_type": "markdown",
   "metadata": {
    "collapsed": false
   },
   "source": [
    "- 构建数据字典"
   ]
  },
  {
   "cell_type": "code",
   "execution_count": null,
   "metadata": {
    "collapsed": false
   },
   "outputs": [],
   "source": [
    "def create_dic(df, dict_path):\r\n",
    "    with open(dict_path, 'w') as f:\r\n",
    "        f.seek(0)\r\n",
    "        f.truncate()\r\n",
    "\r\n",
    "    dict_set = set()\r\n",
    "    \r\n",
    "    contents = ' '.join(df['Sentences'].to_list())\r\n",
    "\r\n",
    "    tokens = nltk.word_tokenize(contents)\r\n",
    "    s = nltk.stem.SnowballStemmer('english')\r\n",
    "    clean_text = [s.stem(ws) for ws in tokens]\r\n",
    "\r\n",
    "    for s in clean_text:\r\n",
    "        dict_set.add(s)\r\n",
    "\r\n",
    "    dict_list = []\r\n",
    "    i = 0\r\n",
    "    for s in dict_set:\r\n",
    "        dict_list.append([s, i])\r\n",
    "        i += 1\r\n",
    "    \r\n",
    "    dict_txt = dict(dict_list)\r\n",
    "    end_dict = {'<unk>': i, '<pad>': i+1}\r\n",
    "    dict_txt.update(end_dict)\r\n",
    "\r\n",
    "    with open(dict_path, 'w', encoding='utf-8') as f:\r\n",
    "        f.write(str(dict_txt))\r\n",
    "    \r\n",
    "    print('The word dictionary has been created successfully!')\r\n",
    "\r\n",
    "# dict_path = export_path + 'word2idx.txt'\r\n",
    "# create_dic(all_pd, dict_path)"
   ]
  },
  {
   "cell_type": "markdown",
   "metadata": {
    "collapsed": false
   },
   "source": [
    "- 加载单词表"
   ]
  },
  {
   "cell_type": "code",
   "execution_count": null,
   "metadata": {
    "collapsed": false
   },
   "outputs": [],
   "source": [
    "import os\r\n",
    "\r\n",
    "def load_vocab(dict_path):\r\n",
    "    if os.path.exists(dict_path) == False:\r\n",
    "        create_dic(all_pd, dict_path)\r\n",
    "\r\n",
    "    with open(dict_path, 'r', encoding = 'utf-8') as fr:\r\n",
    "        vocab = eval(fr.read())\r\n",
    "    \r\n",
    "    return vocab\r\n",
    "\r\n",
    "# vocab = load_vocab(dict_path)"
   ]
  },
  {
   "cell_type": "markdown",
   "metadata": {
    "collapsed": false
   },
   "source": [
    "- 创建序列化的数据，并按照一定比例划分训练数据集与验证数据集"
   ]
  },
  {
   "cell_type": "code",
   "execution_count": null,
   "metadata": {
    "collapsed": false
   },
   "outputs": [],
   "source": [
    "def f_write_txt(sentences, word2idx, label):\r\n",
    "    labs = \"\"\r\n",
    "    ste = nltk.stem.SnowballStemmer('english')\r\n",
    "    sentences = sentences.split(' ')\r\n",
    "    for s in sentences:\r\n",
    "        word = ste.stem(s)\r\n",
    "        lab = str(word2idx.get(word, word2idx['<unk>']))\r\n",
    "        # if word in word2idx.keys():\r\n",
    "        #     lab = str(word2idx[word])\r\n",
    "        # else:\r\n",
    "        #     lab = str(word2idx['<unk>'])\r\n",
    "        labs = labs + lab + ','\r\n",
    "    labs = labs[:-1]\r\n",
    "    labs = labs + '\\t' + label + '\\n'\r\n",
    "\r\n",
    "    return labs \r\n",
    "\r\n",
    "def create_data_list(df, train_path, test_path, dict_path):\r\n",
    "    dict_txt = load_vocab(dict_path)\r\n",
    "\r\n",
    "    i = 0\r\n",
    "    maxlen = 0\r\n",
    "    with open(test_path, 'a', encoding='utf-8') as f_eval,open(train_path, 'a', encoding='utf-8') as f_train:\r\n",
    "        for i, sentence in enumerate(df['Sentences'].values):\r\n",
    "            label = str(df.loc[i, 'Label'])\r\n",
    "            maxlen = max(maxlen, len(sentence.split(' ')))\r\n",
    "            labs = f_write_txt(sentence, dict_txt, label)\r\n",
    "            # 每8个 抽取一个数据用于验证\r\n",
    "            if i % 8 == 0:\r\n",
    "                f_eval.write(labs)\r\n",
    "            else:\r\n",
    "                f_train.write(labs)\r\n",
    "    print(\"数据列表生成完成！\")\r\n",
    "    print(maxlen)\r\n"
   ]
  },
  {
   "cell_type": "code",
   "execution_count": null,
   "metadata": {
    "collapsed": false
   },
   "outputs": [
    {
     "name": "stdout",
     "output_type": "stream",
     "text": [
      "数据列表生成完成！\n",
      "877\n"
     ]
    }
   ],
   "source": [
    "\r\n",
    "# 把生成的数据列表都放在自己的总类别文件夹中\r\n",
    "train_path = export_path + 'train_list.txt'\r\n",
    "test_path = export_path + 'eval_list.txt'\r\n",
    "dict_path = export_path + 'word2idx.txt'\r\n",
    "\r\n",
    "#在生成数据之前，首先将eval_list.txt和train_list.txt清空\r\n",
    "with open(test_path, 'w', encoding='utf-8') as f_eval:\r\n",
    "    f_eval.seek(0)\r\n",
    "    f_eval.truncate()\r\n",
    "with open(train_path, 'w', encoding='utf-8') as f_train:\r\n",
    "    f_train.seek(0)\r\n",
    "    f_train.truncate() \r\n",
    "\r\n",
    "create_data_list(all_pd, train_path, test_path, dict_path)"
   ]
  },
  {
   "cell_type": "markdown",
   "metadata": {
    "collapsed": false
   },
   "source": [
    "- 打印前两条信息"
   ]
  },
  {
   "cell_type": "code",
   "execution_count": null,
   "metadata": {
    "collapsed": false
   },
   "outputs": [
    {
     "name": "stdout",
     "output_type": "stream",
     "text": [
      "1:\n",
      "sentence list id is: ['15218', '3300', '1146', '3692', '11365', '8848', '15857', '554', '1040', '17305', '17228', '15857', '1146', '14705', '16177', '17305']\n",
      "sentence list is:  this is a hastili compil collect of lectur note <unk> summari of a ph.d. student <unk>\n",
      "sentence label id is: 0\n",
      "---------------------------------\n",
      "2:\n",
      "sentence list id is: ['1531', '7867', '8016', '17305', '12755', '2271', '1698', '5271', '1531', '8112', '16252', '17305', '17305', '17305', '966', '17305']\n",
      "sentence list is:  the global women <unk> issu and strategi for the new centuri <unk> <unk> <unk> peggi <unk>\n",
      "sentence label id is: 1\n",
      "---------------------------------\n"
     ]
    }
   ],
   "source": [
    "word2id = load_vocab(dict_path)\r\n",
    "\r\n",
    "def ids_to_str(ids):\r\n",
    "    words = []\r\n",
    "    for k in ids:\r\n",
    "        w = list(vocab.keys())[list(vocab.values()).index(int(k))]\r\n",
    "        words.append(w if isinstance(w, str) else w.decode('ASCII'))\r\n",
    "    return \" \".join(words)\r\n",
    "\r\n",
    "with open (test_path, 'r', encoding = 'utf-8') as f:\r\n",
    "    i = 0\r\n",
    "    lines = f.readlines()\r\n",
    "    for line in lines:\r\n",
    "        i += 1\r\n",
    "        cols = line.strip().split(\"\\t\")\r\n",
    "        if len(cols) != 2:\r\n",
    "            sys.stderr.write(\"[NOTICE] Error Format Line!\")\r\n",
    "            continue\r\n",
    "        \r\n",
    "        label = int(cols[1])\r\n",
    "        sentence = cols[0].split(',')\r\n",
    "        print(str(i) + \":\")\r\n",
    "        print('sentence list id is:', sentence)\r\n",
    "        print('sentence list is: ', ids_to_str(sentence))\r\n",
    "        print('sentence label id is:', label)\r\n",
    "        print('---------------------------------')\r\n",
    "            \r\n",
    "        if i == 2: break"
   ]
  },
  {
   "cell_type": "markdown",
   "metadata": {
    "collapsed": false
   },
   "source": [
    "- 定义数据集"
   ]
  },
  {
   "cell_type": "code",
   "execution_count": null,
   "metadata": {
    "collapsed": false
   },
   "outputs": [],
   "source": [
    "import paddle \r\n",
    "import numpy as np\r\n",
    "\r\n",
    "from paddle.io import Dataset, DataLoader\r\n",
    "from paddlenlp.datasets import MapDataset \r\n",
    "\r\n",
    "class MyDataset(Dataset):\r\n",
    "    def __init__(self, dataset_path, vocab):\r\n",
    "        self.dataset_path = dataset_path \r\n",
    "        self.vocab = vocab\r\n",
    "        self.all_data = []\r\n",
    "\r\n",
    "        with open (dataset_path, 'r', encoding = 'utf-8') as f:\r\n",
    "            i = 0\r\n",
    "            lines = f.readlines()\r\n",
    "            for line in lines:\r\n",
    "                i += 1\r\n",
    "                cols = line.strip().split(\"\\t\")\r\n",
    "                if len(cols) != 2:\r\n",
    "                    sys.stderr.write(\"[NOTICE] Error Format Line!\")\r\n",
    "                    continue\r\n",
    "                \r\n",
    "                label = int(cols[1])\r\n",
    "                sentence = cols[0].split(',')\r\n",
    "\r\n",
    "                if len(sentence) >= 150:\r\n",
    "                    sentence = np.array(sentence[:150]).astype('int64')   \r\n",
    "                else:\r\n",
    "                    sentence = np.concatenate([sentence, [vocab[\"<pad>\"]]*(150-len(sentence))]).astype('int64')\r\n",
    "                label = np.array(label)\r\n",
    "                labels = np.array([0, 0]).astype('int64')\r\n",
    "                labels[label] = 1\r\n",
    "                self.all_data.append((sentence, labels))\r\n",
    "\r\n",
    "    def __getitem__(self, idx):\r\n",
    "        data, labels = self.all_data[idx]\r\n",
    "        return data, labels\r\n",
    "\r\n",
    "    def __len__(self):\r\n",
    "        return len(self.all_data)\r\n",
    "\r\n",
    "vocab = load_vocab(dict_path)\r\n",
    "batch_size = 32\r\n",
    "train_dataset = MyDataset(train_path, vocab)\r\n",
    "test_dataset = MyDataset(test_path, vocab)\r\n",
    "\r\n",
    "train_loader = DataLoader(train_dataset, places=paddle.CPUPlace(), return_list=True,\r\n",
    "                                    shuffle=True, batch_size=batch_size, drop_last=True)\r\n",
    "test_loader = DataLoader(test_dataset, places=paddle.CPUPlace(), return_list=True,\r\n",
    "                                    shuffle=True, batch_size=batch_size, drop_last=True)"
   ]
  },
  {
   "cell_type": "markdown",
   "metadata": {
    "collapsed": false
   },
   "source": [
    "## 2.4 数据集的测试"
   ]
  },
  {
   "cell_type": "code",
   "execution_count": null,
   "metadata": {
    "collapsed": false
   },
   "outputs": [
    {
     "name": "stdout",
     "output_type": "stream",
     "text": [
      "=============train_dataset =============\n",
      "Sentence list:  [14526 14200 15218  2216  5271  1531  8453 17305 14526 11612  1531  5163\n",
      "  7502  1531  6595  6058  8805 12213  7056  6708  9341    41 17204 14200\n",
      " 16770  1505 13905  8156  4789 15857  1531  3659 15857  1531 17305  1531\n",
      "  8166  5502 15435  1330 17305  1977 14043  1531 15115 17305 17305  8875\n",
      " 17204  1146 15705  4789 15857  1531  1927 16190 14043  5706 17305  2271\n",
      "   323 15534  5271  7717  3880 14043  6416 17305  3300  1531 14332 11875\n",
      " 11029  5271  1531  7554  3592  8294 10899  6675 15857  1146 11118 13967\n",
      "  6727 17305 14526  2983  6059  9341 15218  2216 13579   323  3948 17305\n",
      " 14526 17180  1531 12758  2216 14043  1531 17305 17306 17306 17306 17306\n",
      " 17306 17306 17306 17306 17306 17306 17306 17306 17306 17306 17306 17306\n",
      " 17306 17306 17306 17306 17306 17306 17306 17306 17306 17306 17306 17306\n",
      " 17306 17306 17306 17306 17306 17306 17306 17306 17306 17306 17306 17306\n",
      " 17306 17306 17306 17306 17306 17306]\n",
      "Sentence (stem):  i enjoy this book for the most <unk> i feel the trip throught the stargat could have been better develop but it was enjoy to see an insid view of the work of the <unk> the main charact were all <unk> particip in the problem <unk> <unk> there was a writer view of the teamwork seen in each <unk> and some food for thought ad in as <unk> is the world realli readi for the idea that we are part of a bigger univers out <unk> i don't know but this book present some interest <unk> i await the next book in the <unk> <pad> <pad> <pad> <pad> <pad> <pad> <pad> <pad> <pad> <pad> <pad> <pad> <pad> <pad> <pad> <pad> <pad> <pad> <pad> <pad> <pad> <pad> <pad> <pad> <pad> <pad> <pad> <pad> <pad> <pad> <pad> <pad> <pad> <pad> <pad> <pad> <pad> <pad> <pad> <pad> <pad> <pad> <pad> <pad> <pad> <pad>\n",
      "Shape:  (150,)\n",
      "Label:  Positive\n",
      "=============test_dataset =============\n",
      "Sentence list:  [15218  3300  1146  3692 11365  8848 15857   554  1040 17305 17228 15857\n",
      "  1146 14705 16177 17305 17306 17306 17306 17306 17306 17306 17306 17306\n",
      " 17306 17306 17306 17306 17306 17306 17306 17306 17306 17306 17306 17306\n",
      " 17306 17306 17306 17306 17306 17306 17306 17306 17306 17306 17306 17306\n",
      " 17306 17306 17306 17306 17306 17306 17306 17306 17306 17306 17306 17306\n",
      " 17306 17306 17306 17306 17306 17306 17306 17306 17306 17306 17306 17306\n",
      " 17306 17306 17306 17306 17306 17306 17306 17306 17306 17306 17306 17306\n",
      " 17306 17306 17306 17306 17306 17306 17306 17306 17306 17306 17306 17306\n",
      " 17306 17306 17306 17306 17306 17306 17306 17306 17306 17306 17306 17306\n",
      " 17306 17306 17306 17306 17306 17306 17306 17306 17306 17306 17306 17306\n",
      " 17306 17306 17306 17306 17306 17306 17306 17306 17306 17306 17306 17306\n",
      " 17306 17306 17306 17306 17306 17306 17306 17306 17306 17306 17306 17306\n",
      " 17306 17306 17306 17306 17306 17306]\n",
      "Sentence (stem):  this is a hastili compil collect of lectur note <unk> summari of a ph.d. student <unk> <pad> <pad> <pad> <pad> <pad> <pad> <pad> <pad> <pad> <pad> <pad> <pad> <pad> <pad> <pad> <pad> <pad> <pad> <pad> <pad> <pad> <pad> <pad> <pad> <pad> <pad> <pad> <pad> <pad> <pad> <pad> <pad> <pad> <pad> <pad> <pad> <pad> <pad> <pad> <pad> <pad> <pad> <pad> <pad> <pad> <pad> <pad> <pad> <pad> <pad> <pad> <pad> <pad> <pad> <pad> <pad> <pad> <pad> <pad> <pad> <pad> <pad> <pad> <pad> <pad> <pad> <pad> <pad> <pad> <pad> <pad> <pad> <pad> <pad> <pad> <pad> <pad> <pad> <pad> <pad> <pad> <pad> <pad> <pad> <pad> <pad> <pad> <pad> <pad> <pad> <pad> <pad> <pad> <pad> <pad> <pad> <pad> <pad> <pad> <pad> <pad> <pad> <pad> <pad> <pad> <pad> <pad> <pad> <pad> <pad> <pad> <pad> <pad> <pad> <pad> <pad> <pad> <pad> <pad> <pad> <pad> <pad> <pad> <pad> <pad> <pad> <pad> <pad> <pad> <pad> <pad> <pad> <pad> <pad>\n",
      "Shape:  (150,)\n",
      "Label:  Negative\n"
     ]
    }
   ],
   "source": [
    "def ids_to_str(ids):\r\n",
    "    words = []\r\n",
    "    for k in ids:\r\n",
    "        w = list(vocab.keys())[list(vocab.values()).index(int(k))]\r\n",
    "        words.append(w if isinstance(w, str) else w.decode('ASCII'))\r\n",
    "    return \" \".join(words)\r\n",
    "\r\n",
    "dict_sent = {1: 'Positive', 0: 'Negative'}\r\n",
    "\r\n",
    "print('=============train_dataset =============') \r\n",
    "for data, label in train_dataset:\r\n",
    "    print('Sentence list: ', data)\r\n",
    "    print('Sentence (stem): ', ids_to_str(data))\r\n",
    "    print('Shape: ', np.array(data).shape)\r\n",
    "    print('Label: ', dict_sent[np.where(label==np.max(label))[0].item()])\r\n",
    "    break\r\n",
    "\r\n",
    "\r\n",
    "print('=============test_dataset =============') \r\n",
    "for data, label in test_dataset:\r\n",
    "    print('Sentence list: ', data)\r\n",
    "    print('Sentence (stem): ', ids_to_str(data))\r\n",
    "    print('Shape: ', np.array(data).shape)\r\n",
    "    print('Label: ', dict_sent[np.where(label==np.max(label))[0].item()])\r\n",
    "    break"
   ]
  },
  {
   "cell_type": "markdown",
   "metadata": {
    "collapsed": false
   },
   "source": [
    "# 3. Model\n",
    "\n",
    "本项目选择使用卷积神经网络来处理我们的文本数据。\n",
    "\n",
    "## 3.1 Configuration\n",
    "\n",
    "- 导入包"
   ]
  },
  {
   "cell_type": "code",
   "execution_count": null,
   "metadata": {
    "collapsed": false
   },
   "outputs": [],
   "source": [
    "from paddle import nn, optimizer, metric\r\n",
    "import paddle.nn.functional as F"
   ]
  },
  {
   "cell_type": "markdown",
   "metadata": {
    "collapsed": false
   },
   "source": [
    "\n",
    "- 定义超参数"
   ]
  },
  {
   "cell_type": "code",
   "execution_count": null,
   "metadata": {
    "collapsed": false
   },
   "outputs": [],
   "source": [
    "export_path = 'Senti_dataset/'\r\n",
    "all_data_path = export_path + 'all.csv'\r\n",
    "# 把生成的数据列表都放在自己的总类别文件夹中\r\n",
    "train_path = export_path + 'train_list.txt'\r\n",
    "test_path = export_path + 'eval_list.txt'\r\n",
    "dict_path = export_path + 'word2idx.txt'\r\n",
    "\r\n",
    "EMBEDDING_DIM = 128\r\n",
    "N_FILTER = 100\r\n",
    "FILTER_SIZE = 3\r\n",
    "CLASS_DIM = 2\r\n",
    "NUM_CHANNELS = 1\r\n",
    "BATCH_SIZE = 32\r\n",
    "SEQ_LEN = 150\r\n",
    "LEARNING_RATE = 0.002"
   ]
  },
  {
   "cell_type": "markdown",
   "metadata": {
    "collapsed": false
   },
   "source": [
    "- 定义模型"
   ]
  },
  {
   "cell_type": "code",
   "execution_count": null,
   "metadata": {
    "collapsed": false
   },
   "outputs": [],
   "source": [
    "class CNN(nn.Layer):\r\n",
    "    def __init__(self, vocab, embedding_dim, n_filter, class_dim, \r\n",
    "                filter_size, num_channels, batch_size, seq_len):\r\n",
    "        super(CNN, self).__init__()\r\n",
    "        self.vocab_size = len(vocab)\r\n",
    "        self.padding_idx = vocab['<unk>']\r\n",
    "        self.embedding_dim = embedding_dim\r\n",
    "        self.n_filter = n_filter\r\n",
    "        self.class_dim = class_dim\r\n",
    "        self.num_channels = num_channels\r\n",
    "        self.filter_size = filter_size\r\n",
    "        self.batch_size = batch_size\r\n",
    "        self.seq_len = seq_len\r\n",
    "\r\n",
    "        self.embedding = nn.Embedding(self.vocab_size, self.embedding_dim, \r\n",
    "                        sparse=False, padding_idx = self.padding_idx)\r\n",
    "        self.conv = nn.Conv2D(in_channels=1,                        #通道数\r\n",
    "                        out_channels=self.n_filter,                 #卷积核个数\r\n",
    "                        kernel_size= [self.filter_size, self.embedding_dim],  #卷积核大小\r\n",
    "                        padding=[1, 1]\r\n",
    "                        )      \r\n",
    "        self.relu = nn.ReLU()\r\n",
    "        self.maxpool = nn.MaxPool2D(kernel_size = 2, stride = 2)\r\n",
    "        self.fc = nn.Linear(int(self.n_filter*self.seq_len/2), 2)\r\n",
    "\r\n",
    "    def forward(self, text):\r\n",
    "        \r\n",
    "        #print('输入维度：', input.shape)\r\n",
    "        x = self.embedding(text)\r\n",
    "        x_shape = [self.batch_size, self.num_channels, self.seq_len, self.embedding_dim]\r\n",
    "        x = paddle.reshape(x, x_shape)   # [32, 1, 150, 128]\r\n",
    "        x = self.relu(self.conv(x))\r\n",
    "        #print('第一层卷积输出维度：', x.shape)\r\n",
    "        x = self.maxpool(x)\r\n",
    "        #print('池化后输出维度：', x.shape)\r\n",
    "        #在输入全连接层时，需将特征图拉平会自动将数据拉平.\r\n",
    "\r\n",
    "        x = paddle.reshape(x, shape=[self.batch_size, -1])\r\n",
    "        out = self.fc(x)\r\n",
    "        return out                 "
   ]
  },
  {
   "cell_type": "code",
   "execution_count": null,
   "metadata": {
    "collapsed": false
   },
   "outputs": [],
   "source": [
    "vocab = load_vocab(dict_path)\r\n",
    "model = CNN(vocab, EMBEDDING_DIM, N_FILTER, CLASS_DIM, FILTER_SIZE, NUM_CHANNELS, BATCH_SIZE, SEQ_LEN)"
   ]
  },
  {
   "cell_type": "markdown",
   "metadata": {
    "collapsed": false
   },
   "source": [
    "- 计算参数量"
   ]
  },
  {
   "cell_type": "code",
   "execution_count": null,
   "metadata": {
    "collapsed": false
   },
   "outputs": [
    {
     "data": {
      "text/plain": [
       "2215296"
      ]
     },
     "execution_count": null,
     "metadata": {},
     "output_type": "execute_result"
    }
   ],
   "source": [
    "model.parameters()[0].numel().item()"
   ]
  },
  {
   "cell_type": "code",
   "execution_count": null,
   "metadata": {
    "collapsed": false
   },
   "outputs": [
    {
     "name": "stdout",
     "output_type": "stream",
     "text": [
      "The model has 2,268,798 trainable parameters\n"
     ]
    }
   ],
   "source": [
    "def count_parameters(model):\r\n",
    "    return sum(p.numel() for p in model.parameters() if p.stop_gradient==False).item()\r\n",
    "\r\n",
    "print(f'The model has {count_parameters(model):,} trainable parameters')\r\n",
    "# print(f'The model has {} trainable parameters'.format(count_parameters(model)))"
   ]
  },
  {
   "cell_type": "markdown",
   "metadata": {
    "collapsed": false
   },
   "source": [
    "## 3.2 Model training"
   ]
  },
  {
   "cell_type": "code",
   "execution_count": null,
   "metadata": {
    "collapsed": false
   },
   "outputs": [
    {
     "data": {
      "text/plain": [
       "[2, 5]"
      ]
     },
     "execution_count": null,
     "metadata": {},
     "output_type": "execute_result"
    }
   ],
   "source": [
    "predictions.shape"
   ]
  },
  {
   "cell_type": "code",
   "execution_count": null,
   "metadata": {
    "collapsed": false
   },
   "outputs": [
    {
     "data": {
      "text/plain": [
       "Tensor(shape=[1], dtype=float32, place=CPUPlace, stop_gradient=True,\n",
       "       [0.50000000])"
      ]
     },
     "execution_count": null,
     "metadata": {},
     "output_type": "execute_result"
    }
   ],
   "source": [
    "predictions = paddle.to_tensor([[0.2, 0.1, 0.4, 0.1, 0.1], [0.2, 0.3, 0.1, 0.15, 0.25]], dtype='float32')\r\n",
    "label = paddle.to_tensor([[2], [0]], dtype=\"int64\")\r\n",
    "result = paddle.metric.accuracy(input=predictions, label=label, k=1)\r\n",
    "result"
   ]
  },
  {
   "cell_type": "code",
   "execution_count": 161,
   "metadata": {
    "collapsed": false
   },
   "outputs": [
    {
     "name": "stdout",
     "output_type": "stream",
     "text": [
      "epoch: 0, batch_id: 0, loss is: [0.69147956]\n",
      "epoch: 0, batch_id: 50, loss is: [0.74618393]\n",
      "epoch: 0, batch_id: 100, loss is: [0.7883642]\n",
      "[validation] accuracy: 0.6684027910232544, loss: 0.5995304584503174\n",
      "epoch: 1, batch_id: 0, loss is: [0.33007044]\n",
      "epoch: 1, batch_id: 50, loss is: [0.34302858]\n",
      "epoch: 1, batch_id: 100, loss is: [0.30803037]\n",
      "[validation] accuracy: 0.7118055820465088, loss: 0.5608886480331421\n",
      "epoch: 2, batch_id: 0, loss is: [0.08655567]\n",
      "epoch: 2, batch_id: 50, loss is: [0.08403747]\n",
      "epoch: 2, batch_id: 100, loss is: [0.05325777]\n",
      "[validation] accuracy: 0.6805555820465088, loss: 0.7883006930351257\n"
     ]
    }
   ],
   "source": [
    "import matplotlib.pyplot as plt\r\n",
    "\r\n",
    "def draw_process(title,color,iters,data,label):\r\n",
    "    plt.title(title, fontsize=24)\r\n",
    "    plt.xlabel(\"iter\", fontsize=20)\r\n",
    "    plt.ylabel(label, fontsize=20)\r\n",
    "    plt.plot(iters, data,color=color,label=label) \r\n",
    "    plt.legend()\r\n",
    "    plt.grid()\r\n",
    "    plt.show()\r\n",
    "\r\n",
    "def train(model, model_save_path):\r\n",
    "    model.train()\r\n",
    "    opt = optimizer.Adam(learning_rate=LEARNING_RATE, parameters=model.parameters())\r\n",
    "    steps = 0\r\n",
    "    Iters, total_loss, total_acc = [], [], []\r\n",
    "    for epoch in range(3):\r\n",
    "        for batch_id, data in enumerate(train_loader):\r\n",
    "            steps += 1\r\n",
    "            sent = data[0]\r\n",
    "            label = data[1].astype('float32')\r\n",
    "            logits = model(sent)\r\n",
    "            loss = F.cross_entropy(logits, label, soft_label = True)\r\n",
    "\r\n",
    "            real = paddle.argmax(label, axis = 1).unsqueeze(axis = 1)\r\n",
    "            acc = metric.accuracy(logits, real)\r\n",
    "            if batch_id % 50 == 0:\r\n",
    "                Iters.append(steps)\r\n",
    "                total_loss.append(loss.numpy()[0])\r\n",
    "                total_acc.append(acc.numpy()[0])\r\n",
    "                print(\"epoch: {}, batch_id: {}, loss is: {}\".format(epoch, batch_id, loss.numpy()))\r\n",
    "            \r\n",
    "            loss.backward()\r\n",
    "            opt.step()\r\n",
    "            opt.clear_grad()\r\n",
    "\r\n",
    "        # evaluate model after one epoch\r\n",
    "        model.eval()\r\n",
    "        accuracies = []\r\n",
    "        losses = []\r\n",
    "        for batch_id, data in enumerate(test_loader):\r\n",
    "            sent = data[0]\r\n",
    "            label = data[1].astype('float32')\r\n",
    "            logits = model(sent)\r\n",
    "            loss = F.cross_entropy(logits, label, soft_label = True)\r\n",
    "            \r\n",
    "            real = paddle.argmax(label, axis = 1).unsqueeze(axis = 1)\r\n",
    "            acc = metric.accuracy(logits, real)\r\n",
    "            accuracies.append(acc.numpy())\r\n",
    "            losses.append(loss.numpy())\r\n",
    "        \r\n",
    "        avg_acc, avg_loss = np.mean(accuracies), np.mean(losses)\r\n",
    "        print(\"[validation] accuracy: {}, loss: {}\".format(avg_acc, avg_loss))\r\n",
    "        model.train()\r\n",
    "\r\n",
    "    paddle.save(model.state_dict(),model_save_path)\r\n",
    "    return Iters, total_loss, total_acc\r\n",
    "\r\n",
    "model_save_path = export_path + 'model_final.bin'       \r\n",
    "model = CNN(vocab, EMBEDDING_DIM, N_FILTER, CLASS_DIM, FILTER_SIZE, NUM_CHANNELS, BATCH_SIZE, SEQ_LEN)\r\n",
    "\r\n",
    "iters, total_loss, total_acc = train(model, model_save_path)"
   ]
  },
  {
   "cell_type": "code",
   "execution_count": 162,
   "metadata": {
    "collapsed": false
   },
   "outputs": [
    {
     "data": {
      "image/png": "[encoded data removed]",
      "text/plain": [
       "<Figure size 432x288 with 1 Axes>"
      ]
     },
     "metadata": {},
     "output_type": "display_data"
    }
   ],
   "source": [
    "draw_process(\"trainning loss\",\"red\",iters,total_loss,\"trainning loss\")"
   ]
  },
  {
   "cell_type": "code",
   "execution_count": 163,
   "metadata": {
    "collapsed": false
   },
   "outputs": [
    {
     "data": {
      "image/png": "[encoded data removed]",
      "text/plain": [
       "<Figure size 432x288 with 1 Axes>"
      ]
     },
     "metadata": {},
     "output_type": "display_data"
    }
   ],
   "source": [
    "draw_process(\"trainning acc\",\"green\",iters,total_acc,\"trainning acc\")"
   ]
  },
  {
   "cell_type": "markdown",
   "metadata": {
    "collapsed": false
   },
   "source": [
    "## 3.3 Model evaluation"
   ]
  },
  {
   "cell_type": "code",
   "execution_count": 166,
   "metadata": {
    "collapsed": false
   },
   "outputs": [
    {
     "name": "stdout",
     "output_type": "stream",
     "text": [
      "[validation] accuracy: 0.6822916865348816, loss: 0.7864543199539185\n"
     ]
    }
   ],
   "source": [
    "model_state_dict = paddle.load(model_save_path)\r\n",
    "model = CNN(vocab, EMBEDDING_DIM, N_FILTER, CLASS_DIM, FILTER_SIZE, NUM_CHANNELS, BATCH_SIZE, SEQ_LEN)\r\n",
    "\r\n",
    "model.set_state_dict(model_state_dict) \r\n",
    "model.eval()\r\n",
    "accuracies = []\r\n",
    "losses = []\r\n",
    "\r\n",
    "for batch_id, data in enumerate(test_loader):\r\n",
    "    \r\n",
    "    sent = data[0]\r\n",
    "    label = data[1].astype('float32')\r\n",
    "    logits = model(sent)\r\n",
    "    loss = F.cross_entropy(logits, label, soft_label = True)\r\n",
    "    \r\n",
    "    real = paddle.argmax(label, axis = 1).unsqueeze(axis = 1)\r\n",
    "    acc = metric.accuracy(logits, real)\r\n",
    "    \r\n",
    "    accuracies.append(acc.numpy())\r\n",
    "    losses.append(loss.numpy())\r\n",
    "\r\n",
    "avg_acc, avg_loss = np.mean(accuracies), np.mean(losses)\r\n",
    "print(\"[validation] accuracy: {}, loss: {}\".format(avg_acc, avg_loss))\r\n"
   ]
  },
  {
   "cell_type": "markdown",
   "metadata": {
    "collapsed": false
   },
   "source": [
    "## 3.4 Prediction\n",
    "\n",
    "接下来用测试集的数据对训练好的模型进行预测"
   ]
  },
  {
   "cell_type": "code",
   "execution_count": 174,
   "metadata": {
    "collapsed": false
   },
   "outputs": [
    {
     "name": "stdout",
     "output_type": "stream",
     "text": [
      "数据: multipl review of other washington biographi recommend this abridg over the book they were <unk> <unk> i am a <unk> as claim <unk> but i have not read ani washington <unk> i still thought the <unk> abov inform might be help to other <unk>                                                                                                           \n",
      "\n",
      "预测: Negative \n",
      "原始标签：Negative\n"
     ]
    }
   ],
   "source": [
    "dict_sent = {1: 'Positive', 0: 'Negative'}\r\n",
    "\r\n",
    "for batch_id, data in enumerate(test_loader):\r\n",
    "    \r\n",
    "    sent = data[0]\r\n",
    "    gt_labels = data[1].numpy()\r\n",
    "    results = model(sent)\r\n",
    "\r\n",
    "    predictions = []\r\n",
    "    for probs in results:\r\n",
    "        # 映射分类label\r\n",
    "        idx = np.argmax(probs)\r\n",
    "        labels = dict_sent[idx]\r\n",
    "        predictions.append(labels)\r\n",
    "    \r\n",
    "    for i,pre in enumerate(predictions):\r\n",
    "        print('数据: {} \\n\\n预测: {} \\n原始标签：{}'.format(ids_to_str(sent[0]).replace(\"<pad>\",\"\"), pre, dict_sent[gt_labels[0][0]]))\r\n",
    "        break\r\n",
    "    break"
   ]
  },
  {
   "cell_type": "markdown",
   "metadata": {
    "collapsed": false
   },
   "source": [
    "**Conclusion**：可以发现模型的预测效果还行，至此，基于 `CNN` 模型的情感分类模型已经完成，虽然此处仅使用了我们数据集中的 `books-review` 数据，但模型的整体框架是完整的，可以在此基础上加入其他数据集进行模型训练，考虑到时间，此处便不再加入其他数据来验证模型。"
   ]
  }
 ],
 "metadata": {
  "kernelspec": {
   "display_name": "Python 3",
   "language": "python",
   "name": "py35-paddle1.2.0"
  },
  "language_info": {
   "codemirror_mode": {
    "name": "ipython",
    "version": 3
   },
   "file_extension": ".py",
   "mimetype": "text/x-python",
   "name": "python",
   "nbconvert_exporter": "python",
   "pygments_lexer": "ipython3",
   "version": "3.7.4"
  }
 },
 "nbformat": 4,
 "nbformat_minor": 1
}
